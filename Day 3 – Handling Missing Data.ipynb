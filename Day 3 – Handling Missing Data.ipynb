{
 "cells": [
  {
   "cell_type": "code",
   "execution_count": 1,
   "id": "1ccdd0f0-9c36-4c11-ad6e-6f95db856eb5",
   "metadata": {},
   "outputs": [],
   "source": [
    "import pandas as pd"
   ]
  },
  {
   "cell_type": "code",
   "execution_count": 2,
   "id": "3dd34b1a-cc0e-4659-bada-34c752019f48",
   "metadata": {},
   "outputs": [],
   "source": [
    "df = pd.read_csv(r\"E:\\data\\cereal.csv\")"
   ]
  },
  {
   "cell_type": "code",
   "execution_count": 3,
   "id": "b866c87c-8aa8-4666-9b1d-c5d6668a9759",
   "metadata": {},
   "outputs": [
    {
     "data": {
      "text/plain": [
       "name        0\n",
       "mfr         0\n",
       "type        0\n",
       "calories    0\n",
       "protein     0\n",
       "fat         0\n",
       "sodium      0\n",
       "fiber       0\n",
       "carbo       0\n",
       "sugars      0\n",
       "potass      0\n",
       "vitamins    0\n",
       "shelf       0\n",
       "weight      0\n",
       "cups        0\n",
       "rating      0\n",
       "dtype: int64"
      ]
     },
     "execution_count": 3,
     "metadata": {},
     "output_type": "execute_result"
    }
   ],
   "source": [
    "df.isna().sum()"
   ]
  },
  {
   "cell_type": "code",
   "execution_count": 4,
   "id": "2323d7e5-e3d5-4ac1-a74e-2e27b1a53257",
   "metadata": {},
   "outputs": [
    {
     "data": {
      "text/plain": [
       "name        0.0\n",
       "mfr         0.0\n",
       "type        0.0\n",
       "calories    0.0\n",
       "protein     0.0\n",
       "fat         0.0\n",
       "sodium      0.0\n",
       "fiber       0.0\n",
       "carbo       0.0\n",
       "sugars      0.0\n",
       "potass      0.0\n",
       "vitamins    0.0\n",
       "shelf       0.0\n",
       "weight      0.0\n",
       "cups        0.0\n",
       "rating      0.0\n",
       "dtype: float64"
      ]
     },
     "execution_count": 4,
     "metadata": {},
     "output_type": "execute_result"
    }
   ],
   "source": [
    "(df.isna().sum() / len(df)) * 100"
   ]
  },
  {
   "cell_type": "code",
   "execution_count": 5,
   "id": "781dbdde-e78b-4d21-8004-c77f51f45bff",
   "metadata": {},
   "outputs": [],
   "source": [
    "df_cleaned = df.dropna()"
   ]
  },
  {
   "cell_type": "code",
   "execution_count": 6,
   "id": "06758c52-db2f-41d4-b84d-e9c8d3826687",
   "metadata": {},
   "outputs": [],
   "source": [
    "df_cleaned.to_csv(r\"E:\\data\\cleaneddataset.csv\", index=False)"
   ]
  },
  {
   "cell_type": "code",
   "execution_count": null,
   "id": "af86f422-6176-4dc5-ad4e-fc00c0d1652b",
   "metadata": {},
   "outputs": [],
   "source": []
  }
 ],
 "metadata": {
  "kernelspec": {
   "display_name": "Python 3 (ipykernel)",
   "language": "python",
   "name": "python3"
  },
  "language_info": {
   "codemirror_mode": {
    "name": "ipython",
    "version": 3
   },
   "file_extension": ".py",
   "mimetype": "text/x-python",
   "name": "python",
   "nbconvert_exporter": "python",
   "pygments_lexer": "ipython3",
   "version": "3.13.5"
  }
 },
 "nbformat": 4,
 "nbformat_minor": 5
}
