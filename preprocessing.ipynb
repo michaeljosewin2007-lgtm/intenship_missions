{
 "cells": [
  {
   "cell_type": "code",
   "execution_count": 1,
   "id": "0f6c5c78-7173-4892-9723-686f973a30fd",
   "metadata": {},
   "outputs": [],
   "source": [
    "import pandas as pd"
   ]
  },
  {
   "cell_type": "code",
   "execution_count": 2,
   "id": "d91fefeb-5aec-41c7-843b-e3c3854efb52",
   "metadata": {},
   "outputs": [],
   "source": [
    "from sklearn.preprocessing import MinMaxScaler"
   ]
  },
  {
   "cell_type": "code",
   "execution_count": 3,
   "id": "1f16edb4-42e4-40d3-bd86-916666d7b142",
   "metadata": {},
   "outputs": [],
   "source": [
    "df = pd.read_csv(r\"E:\\data\\cleaneddataset_v2.csv\")"
   ]
  },
  {
   "cell_type": "code",
   "execution_count": 4,
   "id": "81eb3836-e217-4bb7-a086-4c86c9c8d971",
   "metadata": {},
   "outputs": [],
   "source": [
    "numerical_cols = df.select_dtypes(include=['int64',\n",
    "'float64']).columns"
   ]
  },
  {
   "cell_type": "code",
   "execution_count": 5,
   "id": "bb28704f-0104-4c74-8b5f-1ac443dd4b71",
   "metadata": {},
   "outputs": [
    {
     "name": "stdout",
     "output_type": "stream",
     "text": [
      "Numerical Columns: Index(['mfr', 'calories', 'protein', 'fat', 'sodium', 'fiber', 'carbo',\n",
      "       'sugars', 'potass', 'vitamins', 'shelf', 'weight', 'cups', 'rating'],\n",
      "      dtype='object')\n"
     ]
    }
   ],
   "source": [
    "print(\"Numerical Columns:\", numerical_cols)"
   ]
  },
  {
   "cell_type": "code",
   "execution_count": 6,
   "id": "e2fd8fcf-0b7b-4e67-a7da-749aded74910",
   "metadata": {},
   "outputs": [],
   "source": [
    "scaler = MinMaxScaler()"
   ]
  },
  {
   "cell_type": "code",
   "execution_count": 13,
   "id": "8bb19a45-5ebd-4073-a12e-13c2cecb74f5",
   "metadata": {},
   "outputs": [],
   "source": [
    "df[numerical_cols] =scaler.transform(df[numerical_cols])"
   ]
  },
  {
   "cell_type": "code",
   "execution_count": 14,
   "id": "89855fdb-082a-4ec9-af92-b37f7312418c",
   "metadata": {},
   "outputs": [
    {
     "name": "stdout",
     "output_type": "stream",
     "text": [
      "   mfr  calories  protein  fat    sodium     fiber     carbo  sugars  \\\n",
      "0  NaN       NaN      0.6  0.2  0.406250  0.714286  0.250000  0.4375   \n",
      "1  NaN       NaN      0.4  1.0  0.046875  0.142857  0.375000  0.5625   \n",
      "2  NaN       NaN      0.6  0.2  0.812500  0.642857  0.333333  0.3750   \n",
      "3  NaN       NaN      0.6  0.0  0.437500  1.000000  0.375000  0.0625   \n",
      "4  NaN       NaN      0.2  0.4  0.625000  0.071429  0.625000  0.5625   \n",
      "\n",
      "     potass  vitamins  shelf  weight   cups    rating  \n",
      "0  0.848943      0.25    1.0     0.5  0.064  0.665593  \n",
      "1  0.410876      0.00    1.0     0.5  0.600  0.210685  \n",
      "2  0.969789      0.25    1.0     0.5  0.064  0.546941  \n",
      "3  1.000000      0.25    1.0     0.5  0.200  1.000000  \n",
      "4  0.000000      0.25    1.0     0.5  0.400  0.215987  \n"
     ]
    }
   ],
   "source": [
    "print(df[numerical_cols].head())"
   ]
  },
  {
   "cell_type": "code",
   "execution_count": 16,
   "id": "9b68618c-6964-4808-8eee-bca0b2078d8f",
   "metadata": {},
   "outputs": [],
   "source": [
    "df.to_csv(r\"E:\\data\\preprocessed_data.csv\", index=False)"
   ]
  },
  {
   "cell_type": "code",
   "execution_count": null,
   "id": "eff39829-8350-4ce4-8479-39fb4c8c9625",
   "metadata": {},
   "outputs": [],
   "source": []
  }
 ],
 "metadata": {
  "kernelspec": {
   "display_name": "Python 3 (ipykernel)",
   "language": "python",
   "name": "python3"
  },
  "language_info": {
   "codemirror_mode": {
    "name": "ipython",
    "version": 3
   },
   "file_extension": ".py",
   "mimetype": "text/x-python",
   "name": "python",
   "nbconvert_exporter": "python",
   "pygments_lexer": "ipython3",
   "version": "3.13.5"
  }
 },
 "nbformat": 4,
 "nbformat_minor": 5
}
